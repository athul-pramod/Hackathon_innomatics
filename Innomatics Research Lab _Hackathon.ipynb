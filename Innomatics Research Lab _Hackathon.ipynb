{
 "cells": [
  {
   "cell_type": "markdown",
   "id": "600ad74e",
   "metadata": {},
   "source": [
    "# HACKATHON - INNOMATICS RESEARCH LAB \n",
    "\n",
    "## Building Movie Recommeder system"
   ]
  },
  {
   "cell_type": "markdown",
   "id": "a9eb59bb",
   "metadata": {},
   "source": [
    "## LOADING DATASETS"
   ]
  },
  {
   "cell_type": "code",
   "execution_count": 47,
   "id": "d2c7d2a7",
   "metadata": {},
   "outputs": [],
   "source": [
    "import pandas as pd\n",
    "import numpy as np"
   ]
  },
  {
   "cell_type": "code",
   "execution_count": 46,
   "id": "d87fd136",
   "metadata": {},
   "outputs": [
    {
     "data": {
      "text/html": [
       "<div>\n",
       "<style scoped>\n",
       "    .dataframe tbody tr th:only-of-type {\n",
       "        vertical-align: middle;\n",
       "    }\n",
       "\n",
       "    .dataframe tbody tr th {\n",
       "        vertical-align: top;\n",
       "    }\n",
       "\n",
       "    .dataframe thead th {\n",
       "        text-align: right;\n",
       "    }\n",
       "</style>\n",
       "<table border=\"1\" class=\"dataframe\">\n",
       "  <thead>\n",
       "    <tr style=\"text-align: right;\">\n",
       "      <th></th>\n",
       "      <th>userId</th>\n",
       "      <th>movieId</th>\n",
       "      <th>rating</th>\n",
       "      <th>timestamp</th>\n",
       "    </tr>\n",
       "  </thead>\n",
       "  <tbody>\n",
       "    <tr>\n",
       "      <th>0</th>\n",
       "      <td>1</td>\n",
       "      <td>1</td>\n",
       "      <td>4.0</td>\n",
       "      <td>964982703</td>\n",
       "    </tr>\n",
       "    <tr>\n",
       "      <th>1</th>\n",
       "      <td>1</td>\n",
       "      <td>3</td>\n",
       "      <td>4.0</td>\n",
       "      <td>964981247</td>\n",
       "    </tr>\n",
       "    <tr>\n",
       "      <th>2</th>\n",
       "      <td>1</td>\n",
       "      <td>6</td>\n",
       "      <td>4.0</td>\n",
       "      <td>964982224</td>\n",
       "    </tr>\n",
       "    <tr>\n",
       "      <th>3</th>\n",
       "      <td>1</td>\n",
       "      <td>47</td>\n",
       "      <td>5.0</td>\n",
       "      <td>964983815</td>\n",
       "    </tr>\n",
       "    <tr>\n",
       "      <th>4</th>\n",
       "      <td>1</td>\n",
       "      <td>50</td>\n",
       "      <td>5.0</td>\n",
       "      <td>964982931</td>\n",
       "    </tr>\n",
       "    <tr>\n",
       "      <th>...</th>\n",
       "      <td>...</td>\n",
       "      <td>...</td>\n",
       "      <td>...</td>\n",
       "      <td>...</td>\n",
       "    </tr>\n",
       "    <tr>\n",
       "      <th>100831</th>\n",
       "      <td>610</td>\n",
       "      <td>166534</td>\n",
       "      <td>4.0</td>\n",
       "      <td>1493848402</td>\n",
       "    </tr>\n",
       "    <tr>\n",
       "      <th>100832</th>\n",
       "      <td>610</td>\n",
       "      <td>168248</td>\n",
       "      <td>5.0</td>\n",
       "      <td>1493850091</td>\n",
       "    </tr>\n",
       "    <tr>\n",
       "      <th>100833</th>\n",
       "      <td>610</td>\n",
       "      <td>168250</td>\n",
       "      <td>5.0</td>\n",
       "      <td>1494273047</td>\n",
       "    </tr>\n",
       "    <tr>\n",
       "      <th>100834</th>\n",
       "      <td>610</td>\n",
       "      <td>168252</td>\n",
       "      <td>5.0</td>\n",
       "      <td>1493846352</td>\n",
       "    </tr>\n",
       "    <tr>\n",
       "      <th>100835</th>\n",
       "      <td>610</td>\n",
       "      <td>170875</td>\n",
       "      <td>3.0</td>\n",
       "      <td>1493846415</td>\n",
       "    </tr>\n",
       "  </tbody>\n",
       "</table>\n",
       "<p>100836 rows × 4 columns</p>\n",
       "</div>"
      ],
      "text/plain": [
       "        userId  movieId  rating   timestamp\n",
       "0            1        1     4.0   964982703\n",
       "1            1        3     4.0   964981247\n",
       "2            1        6     4.0   964982224\n",
       "3            1       47     5.0   964983815\n",
       "4            1       50     5.0   964982931\n",
       "...        ...      ...     ...         ...\n",
       "100831     610   166534     4.0  1493848402\n",
       "100832     610   168248     5.0  1493850091\n",
       "100833     610   168250     5.0  1494273047\n",
       "100834     610   168252     5.0  1493846352\n",
       "100835     610   170875     3.0  1493846415\n",
       "\n",
       "[100836 rows x 4 columns]"
      ]
     },
     "execution_count": 46,
     "metadata": {},
     "output_type": "execute_result"
    }
   ],
   "source": [
    "ratings_df = pd.read_csv(\"C:/Users/Athul/Downloads/movie_data/ratings.csv\")\n",
    "ratings_df"
   ]
  },
  {
   "cell_type": "code",
   "execution_count": 48,
   "id": "233efc03",
   "metadata": {},
   "outputs": [
    {
     "data": {
      "text/html": [
       "<div>\n",
       "<style scoped>\n",
       "    .dataframe tbody tr th:only-of-type {\n",
       "        vertical-align: middle;\n",
       "    }\n",
       "\n",
       "    .dataframe tbody tr th {\n",
       "        vertical-align: top;\n",
       "    }\n",
       "\n",
       "    .dataframe thead th {\n",
       "        text-align: right;\n",
       "    }\n",
       "</style>\n",
       "<table border=\"1\" class=\"dataframe\">\n",
       "  <thead>\n",
       "    <tr style=\"text-align: right;\">\n",
       "      <th></th>\n",
       "      <th>movieId</th>\n",
       "      <th>title</th>\n",
       "      <th>genres</th>\n",
       "    </tr>\n",
       "  </thead>\n",
       "  <tbody>\n",
       "    <tr>\n",
       "      <th>0</th>\n",
       "      <td>1</td>\n",
       "      <td>Toy Story (1995)</td>\n",
       "      <td>Adventure|Animation|Children|Comedy|Fantasy</td>\n",
       "    </tr>\n",
       "    <tr>\n",
       "      <th>1</th>\n",
       "      <td>2</td>\n",
       "      <td>Jumanji (1995)</td>\n",
       "      <td>Adventure|Children|Fantasy</td>\n",
       "    </tr>\n",
       "    <tr>\n",
       "      <th>2</th>\n",
       "      <td>3</td>\n",
       "      <td>Grumpier Old Men (1995)</td>\n",
       "      <td>Comedy|Romance</td>\n",
       "    </tr>\n",
       "    <tr>\n",
       "      <th>3</th>\n",
       "      <td>4</td>\n",
       "      <td>Waiting to Exhale (1995)</td>\n",
       "      <td>Comedy|Drama|Romance</td>\n",
       "    </tr>\n",
       "    <tr>\n",
       "      <th>4</th>\n",
       "      <td>5</td>\n",
       "      <td>Father of the Bride Part II (1995)</td>\n",
       "      <td>Comedy</td>\n",
       "    </tr>\n",
       "    <tr>\n",
       "      <th>...</th>\n",
       "      <td>...</td>\n",
       "      <td>...</td>\n",
       "      <td>...</td>\n",
       "    </tr>\n",
       "    <tr>\n",
       "      <th>9737</th>\n",
       "      <td>193581</td>\n",
       "      <td>Black Butler: Book of the Atlantic (2017)</td>\n",
       "      <td>Action|Animation|Comedy|Fantasy</td>\n",
       "    </tr>\n",
       "    <tr>\n",
       "      <th>9738</th>\n",
       "      <td>193583</td>\n",
       "      <td>No Game No Life: Zero (2017)</td>\n",
       "      <td>Animation|Comedy|Fantasy</td>\n",
       "    </tr>\n",
       "    <tr>\n",
       "      <th>9739</th>\n",
       "      <td>193585</td>\n",
       "      <td>Flint (2017)</td>\n",
       "      <td>Drama</td>\n",
       "    </tr>\n",
       "    <tr>\n",
       "      <th>9740</th>\n",
       "      <td>193587</td>\n",
       "      <td>Bungo Stray Dogs: Dead Apple (2018)</td>\n",
       "      <td>Action|Animation</td>\n",
       "    </tr>\n",
       "    <tr>\n",
       "      <th>9741</th>\n",
       "      <td>193609</td>\n",
       "      <td>Andrew Dice Clay: Dice Rules (1991)</td>\n",
       "      <td>Comedy</td>\n",
       "    </tr>\n",
       "  </tbody>\n",
       "</table>\n",
       "<p>9742 rows × 3 columns</p>\n",
       "</div>"
      ],
      "text/plain": [
       "      movieId                                      title  \\\n",
       "0           1                           Toy Story (1995)   \n",
       "1           2                             Jumanji (1995)   \n",
       "2           3                    Grumpier Old Men (1995)   \n",
       "3           4                   Waiting to Exhale (1995)   \n",
       "4           5         Father of the Bride Part II (1995)   \n",
       "...       ...                                        ...   \n",
       "9737   193581  Black Butler: Book of the Atlantic (2017)   \n",
       "9738   193583               No Game No Life: Zero (2017)   \n",
       "9739   193585                               Flint (2017)   \n",
       "9740   193587        Bungo Stray Dogs: Dead Apple (2018)   \n",
       "9741   193609        Andrew Dice Clay: Dice Rules (1991)   \n",
       "\n",
       "                                           genres  \n",
       "0     Adventure|Animation|Children|Comedy|Fantasy  \n",
       "1                      Adventure|Children|Fantasy  \n",
       "2                                  Comedy|Romance  \n",
       "3                            Comedy|Drama|Romance  \n",
       "4                                          Comedy  \n",
       "...                                           ...  \n",
       "9737              Action|Animation|Comedy|Fantasy  \n",
       "9738                     Animation|Comedy|Fantasy  \n",
       "9739                                        Drama  \n",
       "9740                             Action|Animation  \n",
       "9741                                       Comedy  \n",
       "\n",
       "[9742 rows x 3 columns]"
      ]
     },
     "execution_count": 48,
     "metadata": {},
     "output_type": "execute_result"
    }
   ],
   "source": [
    "movies_df = pd.read_csv(\"C:/Users/Athul/Downloads/movie_data/movies.csv\")\n",
    "movies_df"
   ]
  },
  {
   "cell_type": "code",
   "execution_count": 49,
   "id": "663dd295",
   "metadata": {},
   "outputs": [
    {
     "data": {
      "text/html": [
       "<div>\n",
       "<style scoped>\n",
       "    .dataframe tbody tr th:only-of-type {\n",
       "        vertical-align: middle;\n",
       "    }\n",
       "\n",
       "    .dataframe tbody tr th {\n",
       "        vertical-align: top;\n",
       "    }\n",
       "\n",
       "    .dataframe thead th {\n",
       "        text-align: right;\n",
       "    }\n",
       "</style>\n",
       "<table border=\"1\" class=\"dataframe\">\n",
       "  <thead>\n",
       "    <tr style=\"text-align: right;\">\n",
       "      <th></th>\n",
       "      <th>movieId</th>\n",
       "      <th>imdbId</th>\n",
       "      <th>tmdbId</th>\n",
       "    </tr>\n",
       "  </thead>\n",
       "  <tbody>\n",
       "    <tr>\n",
       "      <th>0</th>\n",
       "      <td>1</td>\n",
       "      <td>114709</td>\n",
       "      <td>862.0</td>\n",
       "    </tr>\n",
       "    <tr>\n",
       "      <th>1</th>\n",
       "      <td>2</td>\n",
       "      <td>113497</td>\n",
       "      <td>8844.0</td>\n",
       "    </tr>\n",
       "    <tr>\n",
       "      <th>2</th>\n",
       "      <td>3</td>\n",
       "      <td>113228</td>\n",
       "      <td>15602.0</td>\n",
       "    </tr>\n",
       "    <tr>\n",
       "      <th>3</th>\n",
       "      <td>4</td>\n",
       "      <td>114885</td>\n",
       "      <td>31357.0</td>\n",
       "    </tr>\n",
       "    <tr>\n",
       "      <th>4</th>\n",
       "      <td>5</td>\n",
       "      <td>113041</td>\n",
       "      <td>11862.0</td>\n",
       "    </tr>\n",
       "    <tr>\n",
       "      <th>...</th>\n",
       "      <td>...</td>\n",
       "      <td>...</td>\n",
       "      <td>...</td>\n",
       "    </tr>\n",
       "    <tr>\n",
       "      <th>9737</th>\n",
       "      <td>193581</td>\n",
       "      <td>5476944</td>\n",
       "      <td>432131.0</td>\n",
       "    </tr>\n",
       "    <tr>\n",
       "      <th>9738</th>\n",
       "      <td>193583</td>\n",
       "      <td>5914996</td>\n",
       "      <td>445030.0</td>\n",
       "    </tr>\n",
       "    <tr>\n",
       "      <th>9739</th>\n",
       "      <td>193585</td>\n",
       "      <td>6397426</td>\n",
       "      <td>479308.0</td>\n",
       "    </tr>\n",
       "    <tr>\n",
       "      <th>9740</th>\n",
       "      <td>193587</td>\n",
       "      <td>8391976</td>\n",
       "      <td>483455.0</td>\n",
       "    </tr>\n",
       "    <tr>\n",
       "      <th>9741</th>\n",
       "      <td>193609</td>\n",
       "      <td>101726</td>\n",
       "      <td>37891.0</td>\n",
       "    </tr>\n",
       "  </tbody>\n",
       "</table>\n",
       "<p>9742 rows × 3 columns</p>\n",
       "</div>"
      ],
      "text/plain": [
       "      movieId   imdbId    tmdbId\n",
       "0           1   114709     862.0\n",
       "1           2   113497    8844.0\n",
       "2           3   113228   15602.0\n",
       "3           4   114885   31357.0\n",
       "4           5   113041   11862.0\n",
       "...       ...      ...       ...\n",
       "9737   193581  5476944  432131.0\n",
       "9738   193583  5914996  445030.0\n",
       "9739   193585  6397426  479308.0\n",
       "9740   193587  8391976  483455.0\n",
       "9741   193609   101726   37891.0\n",
       "\n",
       "[9742 rows x 3 columns]"
      ]
     },
     "execution_count": 49,
     "metadata": {},
     "output_type": "execute_result"
    }
   ],
   "source": [
    "links_df =pd.read_csv(\"C:/Users/Athul/Downloads/movie_data/links.csv\")\n",
    "links_df"
   ]
  },
  {
   "cell_type": "code",
   "execution_count": 50,
   "id": "ec32fb3e",
   "metadata": {},
   "outputs": [
    {
     "data": {
      "text/html": [
       "<div>\n",
       "<style scoped>\n",
       "    .dataframe tbody tr th:only-of-type {\n",
       "        vertical-align: middle;\n",
       "    }\n",
       "\n",
       "    .dataframe tbody tr th {\n",
       "        vertical-align: top;\n",
       "    }\n",
       "\n",
       "    .dataframe thead th {\n",
       "        text-align: right;\n",
       "    }\n",
       "</style>\n",
       "<table border=\"1\" class=\"dataframe\">\n",
       "  <thead>\n",
       "    <tr style=\"text-align: right;\">\n",
       "      <th></th>\n",
       "      <th>userId</th>\n",
       "      <th>movieId</th>\n",
       "      <th>tag</th>\n",
       "      <th>timestamp</th>\n",
       "    </tr>\n",
       "  </thead>\n",
       "  <tbody>\n",
       "    <tr>\n",
       "      <th>0</th>\n",
       "      <td>2</td>\n",
       "      <td>60756</td>\n",
       "      <td>funny</td>\n",
       "      <td>1445714994</td>\n",
       "    </tr>\n",
       "    <tr>\n",
       "      <th>1</th>\n",
       "      <td>2</td>\n",
       "      <td>60756</td>\n",
       "      <td>Highly quotable</td>\n",
       "      <td>1445714996</td>\n",
       "    </tr>\n",
       "    <tr>\n",
       "      <th>2</th>\n",
       "      <td>2</td>\n",
       "      <td>60756</td>\n",
       "      <td>will ferrell</td>\n",
       "      <td>1445714992</td>\n",
       "    </tr>\n",
       "    <tr>\n",
       "      <th>3</th>\n",
       "      <td>2</td>\n",
       "      <td>89774</td>\n",
       "      <td>Boxing story</td>\n",
       "      <td>1445715207</td>\n",
       "    </tr>\n",
       "    <tr>\n",
       "      <th>4</th>\n",
       "      <td>2</td>\n",
       "      <td>89774</td>\n",
       "      <td>MMA</td>\n",
       "      <td>1445715200</td>\n",
       "    </tr>\n",
       "    <tr>\n",
       "      <th>...</th>\n",
       "      <td>...</td>\n",
       "      <td>...</td>\n",
       "      <td>...</td>\n",
       "      <td>...</td>\n",
       "    </tr>\n",
       "    <tr>\n",
       "      <th>3678</th>\n",
       "      <td>606</td>\n",
       "      <td>7382</td>\n",
       "      <td>for katie</td>\n",
       "      <td>1171234019</td>\n",
       "    </tr>\n",
       "    <tr>\n",
       "      <th>3679</th>\n",
       "      <td>606</td>\n",
       "      <td>7936</td>\n",
       "      <td>austere</td>\n",
       "      <td>1173392334</td>\n",
       "    </tr>\n",
       "    <tr>\n",
       "      <th>3680</th>\n",
       "      <td>610</td>\n",
       "      <td>3265</td>\n",
       "      <td>gun fu</td>\n",
       "      <td>1493843984</td>\n",
       "    </tr>\n",
       "    <tr>\n",
       "      <th>3681</th>\n",
       "      <td>610</td>\n",
       "      <td>3265</td>\n",
       "      <td>heroic bloodshed</td>\n",
       "      <td>1493843978</td>\n",
       "    </tr>\n",
       "    <tr>\n",
       "      <th>3682</th>\n",
       "      <td>610</td>\n",
       "      <td>168248</td>\n",
       "      <td>Heroic Bloodshed</td>\n",
       "      <td>1493844270</td>\n",
       "    </tr>\n",
       "  </tbody>\n",
       "</table>\n",
       "<p>3683 rows × 4 columns</p>\n",
       "</div>"
      ],
      "text/plain": [
       "      userId  movieId               tag   timestamp\n",
       "0          2    60756             funny  1445714994\n",
       "1          2    60756   Highly quotable  1445714996\n",
       "2          2    60756      will ferrell  1445714992\n",
       "3          2    89774      Boxing story  1445715207\n",
       "4          2    89774               MMA  1445715200\n",
       "...      ...      ...               ...         ...\n",
       "3678     606     7382         for katie  1171234019\n",
       "3679     606     7936           austere  1173392334\n",
       "3680     610     3265            gun fu  1493843984\n",
       "3681     610     3265  heroic bloodshed  1493843978\n",
       "3682     610   168248  Heroic Bloodshed  1493844270\n",
       "\n",
       "[3683 rows x 4 columns]"
      ]
     },
     "execution_count": 50,
     "metadata": {},
     "output_type": "execute_result"
    }
   ],
   "source": [
    "tags_df =pd.read_csv(\"C:/Users/Athul/Downloads/movie_data/tags.csv\")\n",
    "tags_df"
   ]
  },
  {
   "cell_type": "code",
   "execution_count": 51,
   "id": "90ae3220",
   "metadata": {},
   "outputs": [
    {
     "data": {
      "text/plain": [
       "(100836, 4)"
      ]
     },
     "execution_count": 51,
     "metadata": {},
     "output_type": "execute_result"
    }
   ],
   "source": [
    "ratings_df.shape"
   ]
  },
  {
   "cell_type": "code",
   "execution_count": 52,
   "id": "4d85b64a",
   "metadata": {},
   "outputs": [
    {
     "data": {
      "text/plain": [
       "(9742, 3)"
      ]
     },
     "execution_count": 52,
     "metadata": {},
     "output_type": "execute_result"
    }
   ],
   "source": [
    "movies_df.shape"
   ]
  },
  {
   "cell_type": "code",
   "execution_count": 53,
   "id": "76cb4fc1",
   "metadata": {},
   "outputs": [
    {
     "name": "stdout",
     "output_type": "stream",
     "text": [
      "610\n"
     ]
    }
   ],
   "source": [
    "unique_id = ratings_df['userId'].nunique()\n",
    "print(unique_id)"
   ]
  },
  {
   "cell_type": "markdown",
   "id": "7ce548b8",
   "metadata": {},
   "source": [
    "## Which movie has recieved maximum number of user ratings"
   ]
  },
  {
   "cell_type": "code",
   "execution_count": 54,
   "id": "a073148a",
   "metadata": {},
   "outputs": [],
   "source": [
    "# Count the number of ratings for each movie\n",
    "rating_counts = ratings_df['movieId'].value_counts()\n",
    "\n",
    "# Convert the Series to a DataFrame for easier merging\n",
    "rating_counts = rating_counts.reset_index()\n",
    "rating_counts.columns = ['movieId', 'rating_count']\n"
   ]
  },
  {
   "cell_type": "code",
   "execution_count": 55,
   "id": "b8a1b58c",
   "metadata": {},
   "outputs": [
    {
     "name": "stdout",
     "output_type": "stream",
     "text": [
      "Movie with the maximum number of user ratings:\n",
      "Title: Forrest Gump (1994)\n",
      "Number of Ratings: 329\n"
     ]
    }
   ],
   "source": [
    "# Merge the rating counts with the movies DataFrame to get movie titles\n",
    "merged_df1 = pd.merge(rating_counts, movies_df, on='movieId')\n",
    "\n",
    "# Find the movie with the maximum number of ratings\n",
    "most_rated_movie = merged_df1.loc[merged_df1['rating_count'].idxmax()]\n",
    "\n",
    "print(f\"Movie with the maximum number of user ratings:\")\n",
    "print(f\"Title: {most_rated_movie['title']}\")\n",
    "print(f\"Number of Ratings: {most_rated_movie['rating_count']}\")\n"
   ]
  },
  {
   "cell_type": "markdown",
   "id": "ff112ffe",
   "metadata": {},
   "source": [
    "## Select all the correct tags submitted by users to \"Matrix, The (1999)\" movie"
   ]
  },
  {
   "cell_type": "code",
   "execution_count": 56,
   "id": "09a77181",
   "metadata": {},
   "outputs": [
    {
     "name": "stdout",
     "output_type": "stream",
     "text": [
      "Movie ID for 'Matrix, The (1999)': 2571\n"
     ]
    }
   ],
   "source": [
    "matrix_movie = movies_df[movies_df['title'] == 'Matrix, The (1999)']\n",
    "\n",
    "if not matrix_movie.empty:\n",
    "    matrix_movie_id = matrix_movie['movieId'].values[0]\n",
    "else:\n",
    "    raise ValueError(\"Movie 'Matrix, The (1999)' not found in the dataset\")\n",
    "\n",
    "print(f\"Movie ID for 'Matrix, The (1999)': {matrix_movie_id}\")\n"
   ]
  },
  {
   "cell_type": "code",
   "execution_count": 57,
   "id": "f1533e0e",
   "metadata": {},
   "outputs": [
    {
     "name": "stdout",
     "output_type": "stream",
     "text": [
      "Tags submitted by users for 'Matrix, The (1999)':\n",
      "['martial arts' 'sci-fi' 'alternate universe' 'philosophy'\n",
      " 'post apocalyptic']\n"
     ]
    }
   ],
   "source": [
    "matrix_tags = tags_df[tags_df['movieId'] == matrix_movie_id]\n",
    "\n",
    "# List all tags\n",
    "tags_list = tags_df['tag'].unique()\n",
    "\n",
    "print(\"Tags submitted by users for 'Matrix, The (1999)':\")\n",
    "print(tags_list)\n"
   ]
  },
  {
   "cell_type": "markdown",
   "id": "430aefe8",
   "metadata": {},
   "source": [
    "## What is the average user rating for movie named \"Terminator 2: Judgment Day (1991)\"?"
   ]
  },
  {
   "cell_type": "code",
   "execution_count": 58,
   "id": "889aef88",
   "metadata": {},
   "outputs": [
    {
     "name": "stdout",
     "output_type": "stream",
     "text": [
      "Movie ID for 'Terminator 2: Judgment Day (1991)': 589\n"
     ]
    }
   ],
   "source": [
    "# Find the movieId for \"Terminator 2: Judgment Day (1991)\"\n",
    "terminator_movie = df_movies[df_movies['title'] == 'Terminator 2: Judgment Day (1991)']\n",
    "\n",
    "if not terminator_movie.empty:\n",
    "    terminator_movie_id = terminator_movie['movieId'].values[0]\n",
    "else:\n",
    "    raise ValueError(\"Movie 'Terminator 2: Judgment Day (1991)' not found in the dataset\")\n",
    "\n",
    "print(f\"Movie ID for 'Terminator 2: Judgment Day (1991)': {terminator_movie_id}\")\n"
   ]
  },
  {
   "cell_type": "code",
   "execution_count": 59,
   "id": "af6ae902",
   "metadata": {},
   "outputs": [
    {
     "name": "stdout",
     "output_type": "stream",
     "text": [
      "Average user rating for 'Terminator 2: Judgment Day (1991)': 3.97\n"
     ]
    }
   ],
   "source": [
    "# Filter ratings for the movieId\n",
    "terminator_ratings = df_ratings[df_ratings['movieId'] == terminator_movie_id]\n",
    "\n",
    "# Calculate the average rating\n",
    "average_rating = terminator_ratings['rating'].mean()\n",
    "\n",
    "print(f\"Average user rating for 'Terminator 2: Judgment Day (1991)': {average_rating:.2f}\")\n"
   ]
  },
  {
   "cell_type": "markdown",
   "id": "43e016b1",
   "metadata": {},
   "source": [
    "## How does the data distribution of user ratings for \"Fight Club (1999)\" movie looks like"
   ]
  },
  {
   "cell_type": "code",
   "execution_count": 60,
   "id": "062485fc",
   "metadata": {},
   "outputs": [
    {
     "name": "stdout",
     "output_type": "stream",
     "text": [
      "Movie ID for 'Fight Club (1999)': 2959\n"
     ]
    }
   ],
   "source": [
    "fight_club_movie = movies_df[movies_df['title'] == 'Fight Club (1999)']\n",
    "\n",
    "if not fight_club_movie.empty:\n",
    "    fight_club_movie_id = fight_club_movie['movieId'].values[0]\n",
    "else:\n",
    "    raise ValueError(\"Movie 'Fight Club (1999)' not found in the dataset\")\n",
    "\n",
    "print(f\"Movie ID for 'Fight Club (1999)': {fight_club_movie_id}\")\n"
   ]
  },
  {
   "cell_type": "code",
   "execution_count": 61,
   "id": "531cdfb3",
   "metadata": {},
   "outputs": [],
   "source": [
    "# Filter ratings for the movieId\n",
    "fight_club_ratings = ratings_df[ratings_df['movieId'] == fight_club_movie_id]\n"
   ]
  },
  {
   "cell_type": "code",
   "execution_count": 62,
   "id": "195b2d1f",
   "metadata": {},
   "outputs": [
    {
     "data": {
      "image/png": "[encoded data removed]",
      "text/plain": [
       "<Figure size 1000x600 with 1 Axes>"
      ]
     },
     "metadata": {},
     "output_type": "display_data"
    }
   ],
   "source": [
    "import matplotlib.pyplot as plt\n",
    "import seaborn as sns\n",
    "\n",
    "# Plot the distribution of ratings\n",
    "plt.figure(figsize=(10, 6))\n",
    "sns.histplot(fight_club_ratings['rating'], bins=10, kde=True, color='blue')\n",
    "plt.title('Distribution of User Ratings for \"Fight Club (1999)\"')\n",
    "plt.xlabel('Rating')\n",
    "plt.ylabel('Frequency')\n",
    "plt.show()\n"
   ]
  },
  {
   "cell_type": "markdown",
   "id": "49b86225",
   "metadata": {},
   "source": [
    "# Group user ratings and Apply aggregations"
   ]
  },
  {
   "cell_type": "code",
   "execution_count": 63,
   "id": "d90006dc",
   "metadata": {},
   "outputs": [
    {
     "name": "stdout",
     "output_type": "stream",
     "text": [
      "   movieId  rating_count  average_rating\n",
      "0        1           215        3.920930\n",
      "1        2           110        3.431818\n",
      "2        3            52        3.259615\n",
      "3        4             7        2.357143\n",
      "4        5            49        3.071429\n"
     ]
    }
   ],
   "source": [
    "\n",
    "# Group user ratings by movieId and calculate count and mean of ratings\n",
    "grouped_ratings = ratings_df.groupby('movieId').agg(\n",
    "    rating_count=('rating', 'count'),\n",
    "    average_rating=('rating', 'mean')\n",
    ").reset_index()\n",
    "\n",
    "print(grouped_ratings.head())"
   ]
  },
  {
   "cell_type": "markdown",
   "id": "66655e64",
   "metadata": {},
   "source": [
    "## Apply Inner Join with Movies DataFrame"
   ]
  },
  {
   "cell_type": "code",
   "execution_count": 64,
   "id": "88885220",
   "metadata": {},
   "outputs": [
    {
     "name": "stdout",
     "output_type": "stream",
     "text": [
      "   movieId  rating_count  average_rating                               title  \\\n",
      "0        1           215        3.920930                    Toy Story (1995)   \n",
      "1        2           110        3.431818                      Jumanji (1995)   \n",
      "2        3            52        3.259615             Grumpier Old Men (1995)   \n",
      "3        4             7        2.357143            Waiting to Exhale (1995)   \n",
      "4        5            49        3.071429  Father of the Bride Part II (1995)   \n",
      "\n",
      "                                        genres  \n",
      "0  Adventure|Animation|Children|Comedy|Fantasy  \n",
      "1                   Adventure|Children|Fantasy  \n",
      "2                               Comedy|Romance  \n",
      "3                         Comedy|Drama|Romance  \n",
      "4                                       Comedy  \n"
     ]
    }
   ],
   "source": [
    "# Merge the grouped ratings DataFrame with the movies DataFrame on movieId\n",
    "merged_df = pd.merge(grouped_ratings,movies_df, on='movieId')\n",
    "\n",
    "print(merged_df.head())\n"
   ]
  },
  {
   "cell_type": "markdown",
   "id": "a14a1ff7",
   "metadata": {},
   "source": [
    "## Filter Movies with More Than 50 User Ratings"
   ]
  },
  {
   "cell_type": "code",
   "execution_count": 65,
   "id": "9f6ec2b5",
   "metadata": {},
   "outputs": [
    {
     "name": "stdout",
     "output_type": "stream",
     "text": [
      "Number of movies with more than 50 user ratings: 436\n",
      "   movieId  rating_count  average_rating                    title  \\\n",
      "0        1           215        3.920930         Toy Story (1995)   \n",
      "1        2           110        3.431818           Jumanji (1995)   \n",
      "2        3            52        3.259615  Grumpier Old Men (1995)   \n",
      "5        6           102        3.946078              Heat (1995)   \n",
      "6        7            54        3.185185           Sabrina (1995)   \n",
      "\n",
      "                                        genres  \n",
      "0  Adventure|Animation|Children|Comedy|Fantasy  \n",
      "1                   Adventure|Children|Fantasy  \n",
      "2                               Comedy|Romance  \n",
      "5                        Action|Crime|Thriller  \n",
      "6                               Comedy|Romance  \n"
     ]
    }
   ],
   "source": [
    "# Filter movies with more than 50 user ratings\n",
    "movies_filtered = merged_df[merged_df['rating_count'] > 50]\n",
    "\n",
    "print(f\"Number of movies with more than 50 user ratings: {movies_filtered.shape[0]}\")\n",
    "print(movies_filtered.head())\n"
   ]
  },
  {
   "cell_type": "markdown",
   "id": "0dda44a3",
   "metadata": {},
   "source": [
    "# Find the movie with the highest average rating"
   ]
  },
  {
   "cell_type": "code",
   "execution_count": 66,
   "id": "909dd3b4",
   "metadata": {},
   "outputs": [
    {
     "name": "stdout",
     "output_type": "stream",
     "text": [
      "Most popular movie based on average user ratings:\n",
      "Title: Shawshank Redemption, The (1994)\n",
      "Average Rating: 4.43\n",
      "Number of Ratings: 317\n"
     ]
    }
   ],
   "source": [
    "most_popular_movie = movies_filtered.loc[filtered_movies['average_rating'].idxmax()]\n",
    "\n",
    "# Display the most popular movie based on average user ratings\n",
    "print(f\"Most popular movie based on average user ratings:\")\n",
    "print(f\"Title: {most_popular_movie['title']}\")\n",
    "print(f\"Average Rating: {most_popular_movie['average_rating']:.2f}\")\n",
    "print(f\"Number of Ratings: {most_popular_movie['rating_count']}\")"
   ]
  },
  {
   "cell_type": "markdown",
   "id": "3084ae0c",
   "metadata": {},
   "source": [
    "## Select all the correct options which comes under top 5 popular movies based on number of user ratings."
   ]
  },
  {
   "cell_type": "code",
   "execution_count": 67,
   "id": "1b550291",
   "metadata": {},
   "outputs": [
    {
     "name": "stdout",
     "output_type": "stream",
     "text": [
      "Top 5 popular movies based on number of user ratings:\n",
      "                                 title  rating_count\n",
      "314                Forrest Gump (1994)           329\n",
      "277   Shawshank Redemption, The (1994)           317\n",
      "257                Pulp Fiction (1994)           307\n",
      "510   Silence of the Lambs, The (1991)           279\n",
      "1938                Matrix, The (1999)           278\n"
     ]
    }
   ],
   "source": [
    "#Sort movies by the number of ratings in descending order and get the top 5\n",
    "top_5_movies = movies_filtered.sort_values(by='rating_count', ascending=False).head(5)\n",
    "\n",
    "print(\"Top 5 popular movies based on number of user ratings:\")\n",
    "print(top_5_movies[['title', 'rating_count']])"
   ]
  },
  {
   "cell_type": "markdown",
   "id": "2c897b19",
   "metadata": {},
   "source": [
    "## Which Sci-Fi movie is \"third most popular\" based on the number of user ratings"
   ]
  },
  {
   "cell_type": "code",
   "execution_count": 68,
   "id": "afd439af",
   "metadata": {},
   "outputs": [
    {
     "name": "stdout",
     "output_type": "stream",
     "text": [
      "Third most popular Sci-Fi movie based on number of user ratings:\n",
      "Title: Jurassic Park (1993)\n",
      "Number of Ratings: 238\n"
     ]
    }
   ],
   "source": [
    "sci_fi_movies = movies_filtered[movies_filtered['genres'].str.contains('Sci-Fi', case=False, na=False)]\n",
    "\n",
    "sci_fi_sorted = sci_fi_movies.sort_values(by='rating_count', ascending=False)\n",
    "\n",
    "# Select the third most popular Sci-Fi movie\n",
    "third_most_popular_sci_fi = sci_fi_sorted.iloc[2]  \n",
    "\n",
    "print(f\"Third most popular Sci-Fi movie based on number of user ratings:\")\n",
    "print(f\"Title: {third_most_popular_sci_fi['title']}\")\n",
    "print(f\"Number of Ratings: {third_most_popular_sci_fi['rating_count']}\")"
   ]
  },
  {
   "cell_type": "markdown",
   "id": "55954d42",
   "metadata": {},
   "source": [
    "##  scrape the IMDB reviews of each movie with more than 50 user ratings. \n"
   ]
  },
  {
   "cell_type": "code",
   "execution_count": 69,
   "id": "3f825e39",
   "metadata": {},
   "outputs": [
    {
     "name": "stdout",
     "output_type": "stream",
     "text": [
      "     movieId                             title   imdbId\n",
      "0          1                  Toy Story (1995)   114709\n",
      "1          2                    Jumanji (1995)   113497\n",
      "2          3           Grumpier Old Men (1995)   113228\n",
      "3          6                       Heat (1995)   113277\n",
      "4          7                    Sabrina (1995)   114319\n",
      "..       ...                               ...      ...\n",
      "431   106782   Wolf of Wall Street, The (2013)   993846\n",
      "432   109374  Grand Budapest Hotel, The (2014)  2278388\n",
      "433   109487               Interstellar (2014)   816692\n",
      "434   112852    Guardians of the Galaxy (2014)  2015381\n",
      "435   122904                   Deadpool (2016)  1431045\n",
      "\n",
      "[436 rows x 3 columns]\n"
     ]
    }
   ],
   "source": [
    "# Merge with links DataFrame to get IMDb IDs\n",
    "movies_with_links = pd.merge(movies_filtered, df_links, on='movieId')\n",
    "\n",
    "print(movies_with_links[['movieId', 'title', 'imdbId']])"
   ]
  },
  {
   "cell_type": "markdown",
   "id": "36587a8f",
   "metadata": {},
   "source": [
    "## Find the Movie with the Highest IMDb Rating"
   ]
  },
  {
   "cell_type": "code",
   "execution_count": 77,
   "id": "7381d44d",
   "metadata": {},
   "outputs": [
    {
     "name": "stdout",
     "output_type": "stream",
     "text": [
      "Collecting IMDbPY\n",
      "  Obtaining dependency information for IMDbPY from https://files.pythonhosted.org/packages/6f/3c/38555ae0ae26487eff082065a1f7b7a490f7f6e13ea249b8e82cfcc6eb31/IMDbPY-2022.7.9-py3-none-any.whl.metadata\n",
      "  Downloading IMDbPY-2022.7.9-py3-none-any.whl.metadata (498 bytes)\n",
      "Collecting cinemagoer (from IMDbPY)\n",
      "  Obtaining dependency information for cinemagoer from https://files.pythonhosted.org/packages/a7/cc/959c7d74b7d6124852fc4741c154c8f50848f47360955f780636102ec711/cinemagoer-2023.5.1-py3-none-any.whl.metadata\n",
      "  Downloading cinemagoer-2023.5.1-py3-none-any.whl.metadata (2.9 kB)\n",
      "Requirement already satisfied: SQLAlchemy in c:\\users\\ragesh\\anaconda3\\lib\\site-packages (from cinemagoer->IMDbPY) (1.4.39)\n",
      "Requirement already satisfied: lxml in c:\\users\\ragesh\\anaconda3\\lib\\site-packages (from cinemagoer->IMDbPY) (4.9.3)\n",
      "Requirement already satisfied: greenlet!=0.4.17 in c:\\users\\ragesh\\anaconda3\\lib\\site-packages (from SQLAlchemy->cinemagoer->IMDbPY) (2.0.1)\n",
      "Downloading IMDbPY-2022.7.9-py3-none-any.whl (1.2 kB)\n",
      "Downloading cinemagoer-2023.5.1-py3-none-any.whl (297 kB)\n",
      "   ---------------------------------------- 0.0/297.2 kB ? eta -:--:--\n",
      "   ----- --------------------------------- 41.0/297.2 kB 960.0 kB/s eta 0:00:01\n",
      "   ---------------------------------------- 297.2/297.2 kB 3.6 MB/s eta 0:00:00\n",
      "Installing collected packages: cinemagoer, IMDbPY\n",
      "Successfully installed IMDbPY-2022.7.9 cinemagoer-2023.5.1\n",
      "Note: you may need to restart the kernel to use updated packages.\n"
     ]
    }
   ],
   "source": [
    "pip install IMDbPY\n"
   ]
  },
  {
   "cell_type": "code",
   "execution_count": 79,
   "id": "4c6dca18",
   "metadata": {},
   "outputs": [
    {
     "name": "stdout",
     "output_type": "stream",
     "text": [
      "Movie ID: 0111161, IMDb Rating: 9.3\n"
     ]
    }
   ],
   "source": [
    "from imdb import IMDb\n",
    "\n",
    "# Create an IMDb instance\n",
    "ia = IMDb()\n",
    "\n",
    "# Function to fetch IMDb rating using IMDbPY\n",
    "def fetch_imdb_rating(movie_id):\n",
    "    try:\n",
    "        # Get the movie object using the IMDb ID\n",
    "        movie = ia.get_movie(movie_id)\n",
    "        # Fetch the IMDb rating\n",
    "        rating = movie.get('rating')\n",
    "        return rating\n",
    "    except:\n",
    "        return None\n",
    "\n",
    " \n",
    " rating = fetch_imdb_rating(movie_id)\n",
    "\n",
    "# Print the result\n",
    "print(f\"Movie ID: {movie_id}, IMDb Rating: {rating}\")\n"
   ]
  },
  {
   "cell_type": "code",
   "execution_count": 80,
   "id": "ac1133cf",
   "metadata": {},
   "outputs": [
    {
     "name": "stdout",
     "output_type": "stream",
     "text": [
      "Movie ID: 0062622, IMDb Rating: 8.3\n"
     ]
    }
   ],
   "source": [
    "from imdb import IMDb\n",
    "\n",
    "# Create an IMDb instance\n",
    "ia = IMDb()\n",
    "\n",
    "# Function to fetch IMDb rating using IMDbPY\n",
    "def fetch_imdb_rating(movie_id):\n",
    "    try:\n",
    "        # Get the movie object using the IMDb ID\n",
    "        movie = ia.get_movie(movie_id)\n",
    "        # Fetch the IMDb rating\n",
    "        rating = movie.get('rating')\n",
    "        return rating\n",
    "    except:\n",
    "        return None\n",
    "\n",
    "  \n",
    " rating = fetch_imdb_rating(movie_id)\n",
    "\n",
    "# Print the result\n",
    "print(f\"Movie ID: {movie_id}, IMDb Rating: {rating}\")\n"
   ]
  }
 ],
 "metadata": {
  "kernelspec": {
   "display_name": "Python 3 (ipykernel)",
   "language": "python",
   "name": "python3"
  },
  "language_info": {
   "codemirror_mode": {
    "name": "ipython",
    "version": 3
   },
   "file_extension": ".py",
   "mimetype": "text/x-python",
   "name": "python",
   "nbconvert_exporter": "python",
   "pygments_lexer": "ipython3",
   "version": "3.11.5"
  }
 },
 "nbformat": 4,
 "nbformat_minor": 5
}
